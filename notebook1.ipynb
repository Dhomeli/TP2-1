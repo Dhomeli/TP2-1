{
 "cells": [
  {
   "cell_type": "code",
   "execution_count": 0,
   "metadata": {
    "colab": {},
    "colab_type": "code",
    "id": "S8p5h-tuBNpY"
   },
   "outputs": [],
   "source": [
    "### Insertando código Python"
   ]
  },
  {
   "cell_type": "code",
   "execution_count": 1,
   "metadata": {
    "colab": {
     "base_uri": "https://localhost:8080/",
     "height": 34
    },
    "colab_type": "code",
    "id": "Y0pOgRJL6vCf",
    "outputId": "219e2296-eefe-4973-d4be-04547eb5f27e"
   },
   "outputs": [
    {
     "name": "stdout",
     "output_type": "stream",
     "text": [
      "12.5\n"
     ]
    }
   ],
   "source": [
    "x = 10\n",
    "y = 15\n",
    "prom = (x+y)/2\n",
    "print (prom)"
   ]
  },
  {
   "cell_type": "code",
   "execution_count": 4,
   "metadata": {
    "colab": {},
    "colab_type": "code",
    "id": "-jgmE1cpFJ1Y"
   },
   "outputs": [
    {
     "name": "stdout",
     "output_type": "stream",
     "text": [
      "[5.2, 5.8, 5.9]\n"
     ]
    }
   ],
   "source": [
    "### Trabajando con listas\n",
    "A = [5.2,5.8,5.9]\n",
    "print(A)"
   ]
  },
  {
   "cell_type": "code",
   "execution_count": 5,
   "metadata": {},
   "outputs": [
    {
     "name": "stdout",
     "output_type": "stream",
     "text": [
      "16.9\n"
     ]
    }
   ],
   "source": [
    "s = 0\n",
    "for i in A:\n",
    "    s += i\n",
    "print(s)    "
   ]
  },
  {
   "cell_type": "code",
   "execution_count": 26,
   "metadata": {},
   "outputs": [
    {
     "name": "stdout",
     "output_type": "stream",
     "text": [
      "[5.2 5.8 5.9]\n",
      "5.633333333333333\n",
      "0.09555555555555555\n",
      "[[1 2]\n",
      " [3 4]\n",
      " [5 6]]\n",
      "1.5\n",
      "[1.5 3.5 5.5]\n",
      "[3. 4.]\n",
      "[1.5 3.5 5.5]\n",
      "[3. 4.]\n",
      "3.0\n",
      "4.0\n"
     ]
    }
   ],
   "source": [
    "###importando librerías:\n",
    "import numpy as np\n",
    "Ar = np.array(A)\n",
    "print(Ar)\n",
    "sum(Ar)\n",
    "media = np.mean(Ar)\n",
    "print(media)\n",
    "varianza = np.var(Ar)\n",
    "print(varianza)\n",
    "B = np.array([[1,2],[3,4],[5,6]])\n",
    "print(B)\n",
    "print(np.mean(B[0]))\n",
    "print(np.mean(B,axis=1))\n",
    "print(np.mean(B,axis=0))\n",
    "print(B.mean(axis=1))\n",
    "print(B.mean(axis=0))\n",
    "print(B[:,0].mean())\n",
    "print(B[:,1].mean())"
   ]
  },
  {
   "cell_type": "code",
   "execution_count": 41,
   "metadata": {},
   "outputs": [
    {
     "name": "stdout",
     "output_type": "stream",
     "text": [
      "total 80\r\n",
      "-rw-r--r-- 1 vana vana 79491 Aug 25 19:43 notebook1.ipynb\r\n"
     ]
    }
   ],
   "source": [
    "###Python permite ejecutar línea de comando directamente desde el notebook\n",
    "!ls -l\n",
    "!pwd"
   ]
  },
  {
   "cell_type": "code",
   "execution_count": 51,
   "metadata": {
    "colab": {
     "base_uri": "https://localhost:8080/",
     "height": 50
    },
    "colab_type": "code",
    "id": "tiQiWvP2BSl5",
    "outputId": "3685dd5c-2b5a-4d39-cb0b-b12c52faa81a"
   },
   "outputs": [
    {
     "name": "stdout",
     "output_type": "stream",
     "text": [
      "Requirement already satisfied: pandas in /home/vana/anaconda3/lib/python3.7/site-packages (0.24.2)\n",
      "Requirement already satisfied: python-dateutil>=2.5.0 in /home/vana/anaconda3/lib/python3.7/site-packages (from pandas) (2.8.0)\n",
      "Requirement already satisfied: numpy>=1.12.0 in /home/vana/anaconda3/lib/python3.7/site-packages (from pandas) (1.16.4)\n",
      "Requirement already satisfied: pytz>=2011k in /home/vana/anaconda3/lib/python3.7/site-packages (from pandas) (2019.1)\n",
      "Requirement already satisfied: six>=1.5 in /home/vana/anaconda3/lib/python3.7/site-packages (from python-dateutil>=2.5.0->pandas) (1.12.0)\n"
     ]
    }
   ],
   "source": [
    "! pip install pandas\n",
    "import pandas"
   ]
  },
  {
   "cell_type": "code",
   "execution_count": 81,
   "metadata": {
    "colab": {
     "base_uri": "https://localhost:8080/",
     "height": 34
    },
    "colab_type": "code",
    "id": "MYbbgBOtCo_J",
    "outputId": "f30dc16a-4796-4d16-b380-cde5fd775bbe",
    "scrolled": true
   },
   "outputs": [
    {
     "name": "stdout",
     "output_type": "stream",
     "text": [
      "hola mundo\n",
      "total 72\n",
      "-rw-r--r-- 1 vana vana 65740 Aug 25 20:25 notebook1.ipynb\n",
      "drwxr-xr-x 2 vana vana  4096 Aug 25 20:25 PRUEBA\n",
      "/home/vana/Desktop/notebooksJupyter\n"
     ]
    }
   ],
   "source": [
    "! echo \"hola mundo\"\n",
    "! mkdir PRUEBA\n",
    "! ls -l\n",
    "! pwd"
   ]
  }
 ],
 "metadata": {
  "colab": {
   "name": "Intro_GC.ipynb",
   "provenance": [],
   "version": "0.3.2"
  },
  "kernelspec": {
   "display_name": "Python 3",
   "language": "python",
   "name": "python3"
  },
  "language_info": {
   "codemirror_mode": {
    "name": "ipython",
    "version": 3
   },
   "file_extension": ".py",
   "mimetype": "text/x-python",
   "name": "python",
   "nbconvert_exporter": "python",
   "pygments_lexer": "ipython3",
   "version": "3.7.3"
  }
 },
 "nbformat": 4,
 "nbformat_minor": 1
}
